{
 "cells": [
  {
   "cell_type": "markdown",
   "id": "e4b27ed0",
   "metadata": {},
   "source": [
    "# Load packages and configuration"
   ]
  },
  {
   "cell_type": "code",
   "execution_count": 11,
   "id": "bf88c512",
   "metadata": {
    "scrolled": false
   },
   "outputs": [
    {
     "data": {
      "text/html": [
       "<style>.container { width:80% !important; }</style>"
      ],
      "text/plain": [
       "<IPython.core.display.HTML object>"
      ]
     },
     "metadata": {},
     "output_type": "display_data"
    },
    {
     "data": {
      "text/html": [
       "<style>div.output_scroll {height: 100em; }</style>"
      ],
      "text/plain": [
       "<IPython.core.display.HTML object>"
      ]
     },
     "metadata": {},
     "output_type": "display_data"
    }
   ],
   "source": [
    "import warnings\n",
    "warnings.simplefilter(action='ignore', category=FutureWarning)\n",
    "\n",
    "from equilibrator_api import ComponentContribution, Q_ #for creating quantity variables\n",
    "import equilibrator_api\n",
    "import equilibrator_custom_functions_paper as eq #custom functions created during analysis\n",
    "import numpy as np #numerical package\n",
    "import math\n",
    "import matplotlib.pyplot as plt #plotting package\n",
    "import custom_plot_functions as cpf\n",
    "\n",
    "import pandas as pd\n",
    "\n",
    "# if more space is required\n",
    "from IPython.display import display, HTML\n",
    "display(HTML(\"<style>.container { width:80% !important; }</style>\"))\n",
    "display(HTML(\"<style>div.output_scroll {height: 100em; }</style>\"))\n",
    "\n",
    "# set defaults for plotting - grid on, linewidth = 2\n",
    "plt.rc( 'axes', grid=True  )\n",
    "plt.rc( 'figure', figsize = (7,4), dpi=96)\n",
    "plt.rc( 'axes', linewidth=1 )\n",
    "plt.rc( 'lines', linewidth=2 )"
   ]
  },
  {
   "cell_type": "markdown",
   "id": "9e473641",
   "metadata": {},
   "source": [
    "# Define physiological conditions and metabolite ranges"
   ]
  },
  {
   "cell_type": "code",
   "execution_count": 2,
   "id": "4cee86fe",
   "metadata": {},
   "outputs": [],
   "source": [
    "#E. coli physiological conditions as a dictionary\n",
    "E_coli_con = {\n",
    "            \"p_h\": str(Q_(\"7.5\")),\n",
    "            \"p_mg\": str(Q_(6)),\n",
    "            \"ionic_strength\": str(Q_('200 mM')),\n",
    "            \"temperature\": str(Q_(37+273.15,\"K\")),\n",
    "            \"kcat_source\": \"fwd\",\n",
    "}\n",
    "cs_default_bounds = eq.obtain_compound_settings(\"metabolite_reference_table_expanded_custom_phys_conc_paper\", custom_bounds = True)\n",
    "\n",
    "cc= ComponentContribution()"
   ]
  },
  {
   "cell_type": "markdown",
   "id": "02d21162",
   "metadata": {},
   "source": [
    "# Compute MDFs for all pathway combinations\n"
   ]
  },
  {
   "cell_type": "code",
   "execution_count": 9,
   "id": "79ee83fc",
   "metadata": {
    "scrolled": true
   },
   "outputs": [
    {
     "name": "stdout",
     "output_type": "stream",
     "text": [
      "2__EM+GAA Pathway\n",
      "0.375 O2 + Methanol <=> 1.125 H2O + 0.125 3-hydroxybutanol-butanoate\n"
     ]
    },
    {
     "data": {
      "text/plain": [
       "'MDF = 5.60 kJ/mol'"
      ]
     },
     "metadata": {},
     "output_type": "display_data"
    },
    {
     "name": "stdout",
     "output_type": "stream",
     "text": [
      "4__NOG+RuMP Cycle (TAL)\n",
      "0.375 O2 + Methanol <=> 1.125 H2O + 0.125 3-hydroxybutanol-butanoate\n"
     ]
    },
    {
     "data": {
      "text/plain": [
       "'MDF = 4.76 kJ/mol'"
      ]
     },
     "metadata": {},
     "output_type": "display_data"
    },
    {
     "name": "stdout",
     "output_type": "stream",
     "text": [
      "5__ED+Homoserine Pathway\n",
      "0.375 O2 + 1e-06 NADP + 1e-06 NADH + Methanol <=> 1.125 H2O + 1e-06 NADPH + 1e-06 NAD + 0.125 3-hydroxybutanol-butanoate\n"
     ]
    },
    {
     "data": {
      "text/plain": [
       "'MDF = 7.79 kJ/mol'"
      ]
     },
     "metadata": {},
     "output_type": "display_data"
    },
    {
     "name": "stdout",
     "output_type": "stream",
     "text": [
      "6__NOG+RuMP Cycle (SBPase)\n",
      "0.375 O2 + Methanol <=> 1.125 H2O + 0.125 3-hydroxybutanol-butanoate\n"
     ]
    },
    {
     "data": {
      "text/plain": [
       "'MDF = 4.76 kJ/mol'"
      ]
     },
     "metadata": {},
     "output_type": "display_data"
    },
    {
     "name": "stdout",
     "output_type": "stream",
     "text": [
      "7__NOG+Homoserine Pathway\n",
      "0.375 O2 + 1e-06 NADP + 1e-06 NADH + Methanol <=> 1.125 H2O + 1e-06 NADPH + 1e-06 NAD + 0.125 3-hydroxybutanol-butanoate\n"
     ]
    },
    {
     "data": {
      "text/plain": [
       "'MDF = 7.79 kJ/mol'"
      ]
     },
     "metadata": {},
     "output_type": "display_data"
    },
    {
     "name": "stdout",
     "output_type": "stream",
     "text": [
      "9__ED+GAA Pathway\n",
      "0.375 O2 + Methanol <=> 1.125 H2O + 0.125 3-hydroxybutanol-butanoate\n"
     ]
    },
    {
     "data": {
      "text/plain": [
       "'MDF = 5.60 kJ/mol'"
      ]
     },
     "metadata": {},
     "output_type": "display_data"
    },
    {
     "name": "stdout",
     "output_type": "stream",
     "text": [
      "10__NOG+DAS Pathway\n",
      "0.375 O2 + Methanol <=> 1.125 H2O + 0.125 3-hydroxybutanol-butanoate\n"
     ]
    },
    {
     "data": {
      "text/plain": [
       "'MDF = 5.29 kJ/mol'"
      ]
     },
     "metadata": {},
     "output_type": "display_data"
    },
    {
     "name": "stdout",
     "output_type": "stream",
     "text": [
      "11__EM+SACA Pathway\n",
      "0.375 O2 + Methanol <=> 1.125 H2O + 0.125 3-hydroxybutanol-butanoate\n"
     ]
    },
    {
     "data": {
      "text/plain": [
       "'MDF = 5.60 kJ/mol'"
      ]
     },
     "metadata": {},
     "output_type": "display_data"
    },
    {
     "name": "stdout",
     "output_type": "stream",
     "text": [
      "12__EM+Formolase Pathway\n",
      "0.375 O2 + Methanol <=> 1.125 H2O + 0.125 3-hydroxybutanol-butanoate\n"
     ]
    },
    {
     "data": {
      "text/plain": [
       "'MDF = -15.23 kJ/mol'"
      ]
     },
     "metadata": {},
     "output_type": "display_data"
    },
    {
     "name": "stdout",
     "output_type": "stream",
     "text": [
      "13__NOG+Formolase Pathway\n",
      "Net reaction is not balanced!\n",
      "0.375 O2 + Methanol + 1e-06 F6P <=> 1.125 H2O + 1e-06 FALD + 1e-06 Xu5P + 0.125 3-hydroxybutanol-butanoate\n"
     ]
    },
    {
     "data": {
      "text/plain": [
       "'MDF = 5.60 kJ/mol'"
      ]
     },
     "metadata": {},
     "output_type": "display_data"
    },
    {
     "name": "stdout",
     "output_type": "stream",
     "text": [
      "14__EM+Homoserine Pathway\n",
      "0.375 O2 + 1e-06 NADP + 1e-06 NADH + Methanol <=> 1.125 H2O + 1e-06 NADPH + 1e-06 NAD + 0.125 3-hydroxybutanol-butanoate\n"
     ]
    },
    {
     "data": {
      "text/plain": [
       "'MDF = 7.79 kJ/mol'"
      ]
     },
     "metadata": {},
     "output_type": "display_data"
    },
    {
     "name": "stdout",
     "output_type": "stream",
     "text": [
      "15__NOG+SACA Pathway\n",
      "0.375 O2 + Methanol <=> 1.125 H2O + 0.125 3-hydroxybutanol-butanoate\n"
     ]
    },
    {
     "data": {
      "text/plain": [
       "'MDF = 5.60 kJ/mol'"
      ]
     },
     "metadata": {},
     "output_type": "display_data"
    },
    {
     "name": "stdout",
     "output_type": "stream",
     "text": [
      "16__NOG+GAA Pathway\n",
      "0.375 O2 + Methanol <=> 1.125 H2O + 0.125 3-hydroxybutanol-butanoate\n"
     ]
    },
    {
     "data": {
      "text/plain": [
       "'MDF = 5.60 kJ/mol'"
      ]
     },
     "metadata": {},
     "output_type": "display_data"
    },
    {
     "name": "stdout",
     "output_type": "stream",
     "text": [
      "17__NOG+GAPA Pathway\n",
      "0.375 O2 + Methanol <=> 1.125 H2O + 0.125 3-hydroxybutanol-butanoate\n"
     ]
    },
    {
     "data": {
      "text/plain": [
       "'MDF = 5.60 kJ/mol'"
      ]
     },
     "metadata": {},
     "output_type": "display_data"
    },
    {
     "name": "stdout",
     "output_type": "stream",
     "text": [
      "18__ED+SACA Pathway\n",
      "0.375 O2 + Methanol <=> 1.125 H2O + 0.125 3-hydroxybutanol-butanoate\n"
     ]
    },
    {
     "data": {
      "text/plain": [
       "'MDF = 5.60 kJ/mol'"
      ]
     },
     "metadata": {},
     "output_type": "display_data"
    },
    {
     "name": "stdout",
     "output_type": "stream",
     "text": [
      "CPU times: total: 7min 41s\n",
      "Wall time: 9min 6s\n"
     ]
    }
   ],
   "source": [
    "%%time\n",
    "\n",
    "results_excel= 'Filename'\n",
    "xls = pd.ExcelFile(results_excel+'.xlsx')\n",
    "sheets = xls.sheet_names[1:]\n",
    "xls.close()\n",
    "\n",
    "mdf_simulations_all={}\n",
    "\n",
    "for sheet in sheets:\n",
    "    print(sheet)\n",
    "    # Perform MDF Simulation\n",
    "    MDF_result = eq.MDF_analysis(results_excel,sheet,cs_default_bounds,E_coli_con, y=0, custom_dGs = False, print_results = True)\n",
    "    MDF,res1,g1,g2,g3,g4,flx,shp_r,r_id,res2,met,bl,bu,c,shp_c = eq.print_MDF_results_individual(MDF_result)\n",
    "\n",
    "    # Save results in dictionary\n",
    "    mdf_simulations_all[sheet] = [MDF,MDF_result.reaction_df, MDF_result.compound_df, res1,g1,g2,g3,g4,flx,shp_r,r_id,res2,met,bl,bu,c,shp_c] \n",
    "    "
   ]
  },
  {
   "cell_type": "markdown",
   "id": "08f06a65",
   "metadata": {},
   "source": [
    "## Save results in Excel"
   ]
  },
  {
   "cell_type": "code",
   "execution_count": 10,
   "id": "dc1c3d48",
   "metadata": {},
   "outputs": [],
   "source": [
    "# Store all MDF scores in an Excel file \n",
    "\n",
    "MDF_score_dict={}\n",
    "\n",
    "for sheet_MDF in sheets:\n",
    "    MDF_score_dict[sheet_MDF]=np.round(mdf_simulations_all[sheet_MDF][0],3)\n",
    "    \n",
    "MDF_score_df=pd.DataFrame.from_dict(MDF_score_dict, orient='index')\n",
    "MDF_score_df.columns=['MDF Score (kJ/mol)']\n",
    "\n",
    "with pd.ExcelWriter(\"PHB_MeOH_EnzCoup_MDF.xlsx\", mode=\"w\", engine=\"openpyxl\") as writer:\n",
    "    MDF_score_df.to_excel(writer, sheet_name='Summary', encoding='UTF-8')\n",
    "\n",
    "    \n",
    "# Store all data and graphs from each MDF calculation in an independent sheet\n",
    "import openpyxl\n",
    "\n",
    "for sheet_MDF_data in sheets:\n",
    "    with pd.ExcelWriter(\"PHB_MeOH_EnzCoup_MDF.xlsx\", mode=\"a\", engine=\"openpyxl\", if_sheet_exists ='overlay') as writer:\n",
    "        \n",
    "        # Save reaction information\n",
    "        react_df= mdf_simulations_all[sheet_MDF_data][1]\n",
    "        react_df.to_excel(writer,sheet_name=sheet_MDF_data,startrow=0 , startcol=0)   \n",
    "        \n",
    "        # Save metabolite information\n",
    "        metab_df= mdf_simulations_all[sheet_MDF_data][2]\n",
    "        metab_df.to_excel(writer,sheet_name=sheet_MDF_data,startrow=(len(react_df))+3 , startcol=0)   "
   ]
  },
  {
   "cell_type": "markdown",
   "id": "9e61f551",
   "metadata": {},
   "source": [
    "## Create plot with all simulations"
   ]
  },
  {
   "cell_type": "code",
   "execution_count": null,
   "id": "96f39b21",
   "metadata": {},
   "outputs": [],
   "source": [
    "# Create plot with all simulations\n",
    "\n",
    "import math \n",
    "# integrate in one figure\n",
    "fig, axs = plt.subplots(math.ceil((len(mdf_simulations_all.keys()))/3),3, figsize=(30,40), facecolor=\"white\" )\n",
    "\n",
    "ind = 0\n",
    "\n",
    "for mdf_sim in mdf_simulations_all.keys():\n",
    "    \n",
    "    # Extract all data necessary for the plot from the raw simulation data\n",
    "    MDF = mdf_simulations_all[mdf_sim][0]\n",
    "    g3 = mdf_simulations_all[mdf_sim][6]\n",
    "    g4 = mdf_simulations_all[mdf_sim][7]\n",
    "    r_id = mdf_simulations_all[mdf_sim][10]\n",
    "    shp_r = mdf_simulations_all[mdf_sim][9]\n",
    "\n",
    "    # Set the position of the graph for every for loop\n",
    "    vert_indx= math.floor(ind/3)\n",
    "    lat_indx= ind -3*vert_indx\n",
    "    \n",
    "    # Plot and edit the graph\n",
    "    cpf.plot_bar_chart( MDF,g3,g4,r_id,shp_r, ax=axs[vert_indx,lat_indx] )\n",
    "    axs[vert_indx,lat_indx].set_title(mdf_sim +' = '+ str(np.round(MDF,3)) + ' kJ/mol', fontsize=10)\n",
    "    axs[vert_indx,lat_indx].set_ylim( [-60, 40] )\n",
    "    axs[vert_indx,lat_indx].tick_params( axis='x', rotation=90 )\n",
    "    axs[vert_indx,lat_indx].legend(loc=3)\n",
    "    ind = ind+1\n",
    "        #cpf.plot_concentrations_my(MDF_result)  \n",
    "        #display(res1)\n",
    "        #display(res2)\n",
    "\n",
    "fig.tight_layout()\n",
    "fig.show()\n",
    "        \n",
    "        \n",
    "\n"
   ]
  },
  {
   "cell_type": "markdown",
   "id": "d7425fea",
   "metadata": {},
   "source": [
    "## Create plots for individual simulations"
   ]
  },
  {
   "cell_type": "code",
   "execution_count": null,
   "id": "f5bfb0b3",
   "metadata": {},
   "outputs": [],
   "source": [
    "from importlib import reload\n",
    "reload(cpf)\n",
    "\n",
    "import openpyxl\n",
    "\n",
    "wb = openpyxl.load_workbook(\"BAME_Xyl&MeOH_MDF_Final.xlsx\")        \n",
    "\n",
    "for sheet_MDF_data in wb.sheetnames[1:]:\n",
    "        # Create and save MDF graph\n",
    "        \n",
    "        # Extract all data necessary for the plot from the raw simulation data\n",
    "        MDF = mdf_simulations_all[sheet_MDF_data][0]\n",
    "        g3 = mdf_simulations_all[sheet_MDF_data][6]\n",
    "        g4 = mdf_simulations_all[sheet_MDF_data][7]\n",
    "        r_id = mdf_simulations_all[sheet_MDF_data][10]\n",
    "        shp_r = mdf_simulations_all[sheet_MDF_data][9]\n",
    " \n",
    "        # Plot and edit the graph\n",
    "        cpf.plot_bar_chart( sheet_MDF_data,MDF,g3,g4,r_id,shp_r)\n",
    "                \n",
    "        # Save graph\n",
    "        graph_name= sheet_MDF_data + ' MDF Reaction Plot.png' \n",
    "        plt.savefig(graph_name, bbox_inches='tight')\n",
    "        \n",
    "        \n",
    "        #writer = pd.ExcelWriter('PHB_Glc_MDF.xlsx', mode='a', engine = 'openpyxl', if_sheet_exists ='overlay' )\n",
    "        \n",
    "        \n",
    "        wb = openpyxl.load_workbook(\"BAME_Xyl&MeOH_MDF_Final.xlsx\")\n",
    "        ws = wb[sheet_MDF_data]\n",
    "        print(ws)\n",
    "        img = openpyxl.drawing.image.Image(graph_name)\n",
    "        #display(img)\n",
    "        img.anchor = 'L2' # Or whatever cell location you want to use.\n",
    "        ws.add_image(img)\n",
    "        #wb.save(\"PHB_Glc_MDF_with_image.xlsx\")\n",
    "        \n",
    "        \n",
    "        #graph1 = openpyxl.drawing.image.Image(graph_name)\n",
    "        \n",
    "        \n",
    "        \n",
    "        #display(graph1)\n",
    "        #ws.add_image(graph, 'B3')\n",
    "        #wb.save('test.xlsx')\n",
    "        \n",
    "        #worksheet = writer.sheets[sheet_MDF_data]\n",
    "        #worksheet.insert_image('L1',graph_name)\n",
    "        #writer.save()\n",
    "        #MDF_result.reaction_df"
   ]
  },
  {
   "cell_type": "markdown",
   "id": "89398b38",
   "metadata": {},
   "source": [
    "# Sensitivity Analysis"
   ]
  },
  {
   "cell_type": "code",
   "execution_count": null,
   "id": "aad1705a",
   "metadata": {},
   "outputs": [],
   "source": [
    "%%time\n",
    "\n",
    "import equilibrator_custom_functions_paper as eq #custom functions created during analysis\n",
    "from imp import reload\n",
    "reload(eq)"
   ]
  },
  {
   "cell_type": "code",
   "execution_count": null,
   "id": "a7340fba",
   "metadata": {},
   "outputs": [],
   "source": [
    "\n",
    "\n",
    "E_coli_con = {\n",
    "            \"p_h\": str(Q_(\"7.5\")),\n",
    "            \"p_mg\": str(Q_(0)),\n",
    "            \"ionic_strength\": str(Q_('200 mM')),\n",
    "            \"temperature\": str(Q_(37+273.15,\"K\")),\n",
    "            \"kcat_source\": \"fwd\",\n",
    "}\n",
    "\n",
    "results_excel= 'Noreugenin_v5_Glc_for_MDF'\n",
    "xls = pd.ExcelFile(results_excel+'.xlsx')\n",
    "sheets = xls.sheet_names[1:]\n",
    "xls.close()\n",
    "\n",
    "var_simulations_all={}\n",
    "\n",
    "for sheet_CVA in sheets:\n",
    "    print(sheet_CVA)\n",
    "    # Perform CVA Simulation\n",
    "    CVA_result= eq.MDF_CVA(0,results_excel,sheet_CVA,cs_default_bounds,E_coli_con, compounds= None, custom_dGs = False, print_results = True, y = 0)\n",
    "    var_simulations_all[sheet_CVA]=pd.DataFrame(CVA_result, columns= ['Metabolite', 'Lower bound', 'Upper bound'])\n",
    "    break"
   ]
  },
  {
   "cell_type": "code",
   "execution_count": null,
   "id": "5d98cdec",
   "metadata": {},
   "outputs": [],
   "source": [
    "for sheet_CVA_data in sheets:\n",
    "     with pd.ExcelWriter(\"Noreugenin_v5_Glc.xlsx\", mode=\"w\", engine=\"openpyxl\") as writer:\n",
    "        \n",
    "        # Save reaction information\n",
    "        cva_df= var_simulations_all[sheet_CVA_data]\n",
    "        cva_df.to_excel(writer,sheet_name=sheet_cva_data,startrow=0 , startcol=0)"
   ]
  },
  {
   "cell_type": "code",
   "execution_count": null,
   "id": "1d111abe",
   "metadata": {},
   "outputs": [],
   "source": [
    "display(var_simulations_all['1__NOG+Homoserine Pathway'])"
   ]
  },
  {
   "cell_type": "code",
   "execution_count": null,
   "id": "028f1560",
   "metadata": {},
   "outputs": [],
   "source": [
    "type(CVA_result)"
   ]
  },
  {
   "cell_type": "code",
   "execution_count": null,
   "id": "9df1fc56",
   "metadata": {},
   "outputs": [],
   "source": [
    "print(CVA_result)"
   ]
  },
  {
   "cell_type": "code",
   "execution_count": null,
   "id": "7c841a07",
   "metadata": {},
   "outputs": [],
   "source": [
    "print(8.3145*310.15)"
   ]
  },
  {
   "cell_type": "code",
   "execution_count": null,
   "id": "add8c7fd",
   "metadata": {},
   "outputs": [],
   "source": []
  }
 ],
 "metadata": {
  "kernelspec": {
   "display_name": "Python 3 (ipykernel)",
   "language": "python",
   "name": "python3"
  },
  "language_info": {
   "codemirror_mode": {
    "name": "ipython",
    "version": 3
   },
   "file_extension": ".py",
   "mimetype": "text/x-python",
   "name": "python",
   "nbconvert_exporter": "python",
   "pygments_lexer": "ipython3",
   "version": "3.9.12"
  },
  "latex_envs": {
   "LaTeX_envs_menu_present": true,
   "autoclose": false,
   "autocomplete": true,
   "bibliofile": "biblio.bib",
   "cite_by": "apalike",
   "current_citInitial": 1,
   "eqLabelWithNumbers": true,
   "eqNumInitial": 1,
   "hotkeys": {
    "equation": "Ctrl-E",
    "itemize": "Ctrl-I"
   },
   "labels_anchors": false,
   "latex_user_defs": false,
   "report_style_numbering": false,
   "user_envs_cfg": false
  }
 },
 "nbformat": 4,
 "nbformat_minor": 5
}
